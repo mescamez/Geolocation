{
 "cells": [
  {
   "cell_type": "code",
   "execution_count": 222,
   "metadata": {},
   "outputs": [],
   "source": [
    "from pandas.io.json import json_normalize\n",
    "from pymongo import MongoClient\n",
    "import pandas as pd\n",
    "import requests\n",
    "from cleaning import moneyRaise, officeToGeoPoint"
   ]
  },
  {
   "cell_type": "code",
   "execution_count": 223,
   "metadata": {},
   "outputs": [],
   "source": [
    "client = MongoClient(\"mongodb://localhost/projectdb\")\n",
    "db = client.get_database()"
   ]
  },
  {
   "cell_type": "code",
   "execution_count": 224,
   "metadata": {},
   "outputs": [],
   "source": [
    "all_offices = list(db.companies.aggregate([{\"$unwind\":\"$offices\"},{\"$project\":{\"offices\":1,\"name\":1,\"category_code\":1, \"total_money_raised\":1}}]))"
   ]
  },
  {
   "cell_type": "code",
   "execution_count": 225,
   "metadata": {},
   "outputs": [],
   "source": [
    "df = pd.DataFrame(all_offices)"
   ]
  },
  {
   "cell_type": "code",
   "execution_count": 226,
   "metadata": {},
   "outputs": [
    {
     "name": "stdout",
     "output_type": "stream",
     "text": [
      "{'sports', 'other', 'real_estate', None, 'local', 'consulting', 'medical', 'games_video', 'network_hosting', 'legal', 'nanotech', 'finance', 'analytics', 'photo_video', 'search', 'news', 'health', 'fashion', 'social', 'advertising', 'biotech', 'manufacturing', 'enterprise', 'hardware', 'nonprofit', 'transportation', 'mobile', 'travel', 'design', 'web', 'automotive', 'software', 'music', 'messaging', 'security', 'government', 'semiconductor', 'cleantech', 'public_relations', 'ecommerce', 'education', 'hospitality'}\n"
     ]
    }
   ],
   "source": [
    "print(set(df[\"category_code\"]))"
   ]
  },
  {
   "cell_type": "code",
   "execution_count": 227,
   "metadata": {},
   "outputs": [],
   "source": [
    "tech = [\"analytics\", \"web\", \"cleantech\", \"software\", \"mobile\", \"social\", \"ecommerce\", \"search\", \"hardware\", \"biotech\", \"nanotech\", \"games_video\"]\n",
    "df[\"category_code\"] = df[\"category_code\"].apply(lambda x: \"tech\" if x in tech else \"other\" )"
   ]
  },
  {
   "cell_type": "code",
   "execution_count": 228,
   "metadata": {},
   "outputs": [],
   "source": [
    "df[\"total_money_raised\"] = df[\"total_money_raised\"].apply(moneyRaise)"
   ]
  },
  {
   "cell_type": "code",
   "execution_count": 229,
   "metadata": {},
   "outputs": [],
   "source": [
    "df = df.drop(df[df[\"total_money_raised\"]<1000000].index)"
   ]
  },
  {
   "cell_type": "code",
   "execution_count": 230,
   "metadata": {},
   "outputs": [],
   "source": [
    "cleaned_offices = df.apply(officeToGeoPoint,axis=1, result_type=\"expand\")\n",
    "cleaned_offices.columns = [\"geolocation\",\"clean_state\"]"
   ]
  },
  {
   "cell_type": "code",
   "execution_count": 231,
   "metadata": {},
   "outputs": [],
   "source": [
    "df = pd.concat([df,cleaned_offices], axis=1)"
   ]
  },
  {
   "cell_type": "code",
   "execution_count": 233,
   "metadata": {},
   "outputs": [],
   "source": [
    "companies_clean = df[[\"name\",\"category_code\",\"total_money_raised\",\"geolocation\",\"clean_state\"]]"
   ]
  },
  {
   "cell_type": "code",
   "execution_count": 234,
   "metadata": {},
   "outputs": [],
   "source": [
    "companies_clean = companies_clean.drop(companies_clean[companies_clean[\"clean_state\"]!=\"success\"].index)"
   ]
  },
  {
   "cell_type": "code",
   "execution_count": 235,
   "metadata": {},
   "outputs": [],
   "source": [
    "companies_clean = companies_clean.drop(companies_clean[companies_clean[\"category_code\"]!=\"tech\"].index)"
   ]
  },
  {
   "cell_type": "code",
   "execution_count": 236,
   "metadata": {},
   "outputs": [],
   "source": [
    "companies_clean = companies_clean.sort_values([\"total_money_raised\"], ascending=False)"
   ]
  },
  {
   "cell_type": "code",
   "execution_count": 240,
   "metadata": {},
   "outputs": [],
   "source": [
    "companies_clean.to_json(\"../output/companies_clean.json\",orient=\"records\")"
   ]
  },
  {
   "cell_type": "code",
   "execution_count": 238,
   "metadata": {},
   "outputs": [
    {
     "data": {
      "text/html": [
       "<div>\n",
       "<style scoped>\n",
       "    .dataframe tbody tr th:only-of-type {\n",
       "        vertical-align: middle;\n",
       "    }\n",
       "\n",
       "    .dataframe tbody tr th {\n",
       "        vertical-align: top;\n",
       "    }\n",
       "\n",
       "    .dataframe thead th {\n",
       "        text-align: right;\n",
       "    }\n",
       "</style>\n",
       "<table border=\"1\" class=\"dataframe\">\n",
       "  <thead>\n",
       "    <tr style=\"text-align: right;\">\n",
       "      <th></th>\n",
       "      <th>name</th>\n",
       "      <th>category_code</th>\n",
       "      <th>total_money_raised</th>\n",
       "      <th>geolocation</th>\n",
       "      <th>clean_state</th>\n",
       "    </tr>\n",
       "  </thead>\n",
       "  <tbody>\n",
       "    <tr>\n",
       "      <th>8789</th>\n",
       "      <td>Clearwire</td>\n",
       "      <td>tech</td>\n",
       "      <td>570000000000</td>\n",
       "      <td>{'type': 'Point', 'coordinates': [-86.9843446,...</td>\n",
       "      <td>success</td>\n",
       "    </tr>\n",
       "    <tr>\n",
       "      <th>5</th>\n",
       "      <td>Facebook</td>\n",
       "      <td>tech</td>\n",
       "      <td>243000000000</td>\n",
       "      <td>{'type': 'Point', 'coordinates': [-122.151801,...</td>\n",
       "      <td>success</td>\n",
       "    </tr>\n",
       "    <tr>\n",
       "      <th>6</th>\n",
       "      <td>Facebook</td>\n",
       "      <td>tech</td>\n",
       "      <td>243000000000</td>\n",
       "      <td>{'type': 'Point', 'coordinates': [-6.267494, 5...</td>\n",
       "      <td>success</td>\n",
       "    </tr>\n",
       "    <tr>\n",
       "      <th>7</th>\n",
       "      <td>Facebook</td>\n",
       "      <td>tech</td>\n",
       "      <td>243000000000</td>\n",
       "      <td>{'type': 'Point', 'coordinates': [-73.9792469,...</td>\n",
       "      <td>success</td>\n",
       "    </tr>\n",
       "    <tr>\n",
       "      <th>15026</th>\n",
       "      <td>Terra-Gen Power</td>\n",
       "      <td>tech</td>\n",
       "      <td>120000000000</td>\n",
       "      <td>{'type': 'Point', 'coordinates': [-73.9788753,...</td>\n",
       "      <td>success</td>\n",
       "    </tr>\n",
       "    <tr>\n",
       "      <th>...</th>\n",
       "      <td>...</td>\n",
       "      <td>...</td>\n",
       "      <td>...</td>\n",
       "      <td>...</td>\n",
       "      <td>...</td>\n",
       "    </tr>\n",
       "    <tr>\n",
       "      <th>14420</th>\n",
       "      <td>Etix</td>\n",
       "      <td>tech</td>\n",
       "      <td>1000000</td>\n",
       "      <td>{'type': 'Point', 'coordinates': [-78.8139, 35...</td>\n",
       "      <td>success</td>\n",
       "    </tr>\n",
       "    <tr>\n",
       "      <th>214</th>\n",
       "      <td>Dogster</td>\n",
       "      <td>tech</td>\n",
       "      <td>1000000</td>\n",
       "      <td>{'type': 'Point', 'coordinates': [-122.400909,...</td>\n",
       "      <td>success</td>\n",
       "    </tr>\n",
       "    <tr>\n",
       "      <th>14377</th>\n",
       "      <td>BCB Medical</td>\n",
       "      <td>tech</td>\n",
       "      <td>1000000</td>\n",
       "      <td>{'type': 'Point', 'coordinates': [22.2930547, ...</td>\n",
       "      <td>success</td>\n",
       "    </tr>\n",
       "    <tr>\n",
       "      <th>10191</th>\n",
       "      <td>MyOtherDrive</td>\n",
       "      <td>tech</td>\n",
       "      <td>1000000</td>\n",
       "      <td>{'type': 'Point', 'coordinates': [-84.1949463,...</td>\n",
       "      <td>success</td>\n",
       "    </tr>\n",
       "    <tr>\n",
       "      <th>12091</th>\n",
       "      <td>BASH Gaming</td>\n",
       "      <td>tech</td>\n",
       "      <td>1000000</td>\n",
       "      <td>{'type': 'Point', 'coordinates': [77.594376, 1...</td>\n",
       "      <td>success</td>\n",
       "    </tr>\n",
       "  </tbody>\n",
       "</table>\n",
       "<p>2259 rows × 5 columns</p>\n",
       "</div>"
      ],
      "text/plain": [
       "                  name category_code  total_money_raised  \\\n",
       "8789         Clearwire          tech        570000000000   \n",
       "5             Facebook          tech        243000000000   \n",
       "6             Facebook          tech        243000000000   \n",
       "7             Facebook          tech        243000000000   \n",
       "15026  Terra-Gen Power          tech        120000000000   \n",
       "...                ...           ...                 ...   \n",
       "14420             Etix          tech             1000000   \n",
       "214            Dogster          tech             1000000   \n",
       "14377      BCB Medical          tech             1000000   \n",
       "10191     MyOtherDrive          tech             1000000   \n",
       "12091      BASH Gaming          tech             1000000   \n",
       "\n",
       "                                             geolocation clean_state  \n",
       "8789   {'type': 'Point', 'coordinates': [-86.9843446,...     success  \n",
       "5      {'type': 'Point', 'coordinates': [-122.151801,...     success  \n",
       "6      {'type': 'Point', 'coordinates': [-6.267494, 5...     success  \n",
       "7      {'type': 'Point', 'coordinates': [-73.9792469,...     success  \n",
       "15026  {'type': 'Point', 'coordinates': [-73.9788753,...     success  \n",
       "...                                                  ...         ...  \n",
       "14420  {'type': 'Point', 'coordinates': [-78.8139, 35...     success  \n",
       "214    {'type': 'Point', 'coordinates': [-122.400909,...     success  \n",
       "14377  {'type': 'Point', 'coordinates': [22.2930547, ...     success  \n",
       "10191  {'type': 'Point', 'coordinates': [-84.1949463,...     success  \n",
       "12091  {'type': 'Point', 'coordinates': [77.594376, 1...     success  \n",
       "\n",
       "[2259 rows x 5 columns]"
      ]
     },
     "execution_count": 238,
     "metadata": {},
     "output_type": "execute_result"
    }
   ],
   "source": [
    "companies_clean"
   ]
  },
  {
   "cell_type": "code",
   "execution_count": null,
   "metadata": {},
   "outputs": [],
   "source": []
  }
 ],
 "metadata": {
  "kernelspec": {
   "display_name": "Python 3",
   "language": "python",
   "name": "python3"
  },
  "language_info": {
   "codemirror_mode": {
    "name": "ipython",
    "version": 3
   },
   "file_extension": ".py",
   "mimetype": "text/x-python",
   "name": "python",
   "nbconvert_exporter": "python",
   "pygments_lexer": "ipython3",
   "version": "3.7.6"
  }
 },
 "nbformat": 4,
 "nbformat_minor": 4
}
