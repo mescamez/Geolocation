{
 "cells": [
  {
   "cell_type": "code",
   "execution_count": 41,
   "metadata": {},
   "outputs": [],
   "source": [
    "import requests\n",
    "import json\n",
    "import os\n",
    "from dotenv import load_dotenv\n",
    "import pandas as pd\n",
    "from cleaning import getLoc\n",
    "\n",
    "load_dotenv()\n",
    "\n",
    "# Load the apikey\n",
    "client_id = os.getenv(\"foursquareId\")\n",
    "client_secret = os.getenv(\"foursquareKey\")"
   ]
  },
  {
   "cell_type": "code",
   "execution_count": 42,
   "metadata": {},
   "outputs": [],
   "source": [
    "def getBar(path,params=dict()):\n",
    "    params = dict(\n",
    "        client_id = client_id,\n",
    "        client_secret = client_secret,\n",
    "        v='20200418',\n",
    "        near =\"US\",\n",
    "        query = \"Bar\",\n",
    "        categoryId = \"4bf58dd8d48988d116941735\", #-> Bar categoryId,\n",
    "        intent =\"browse\",\n",
    "        limit=1000\n",
    "    )\n",
    "    url = \"https://api.foursquare.com/v2/venues/search\"\n",
    "    res = requests.get(url=url, params=params)\n",
    "    return res.json()"
   ]
  },
  {
   "cell_type": "code",
   "execution_count": 44,
   "metadata": {},
   "outputs": [],
   "source": [
    "Bar = getBar(url, params)[\"response\"][\"venues\"]\n",
    "Bar_locations=[]\n",
    "for b in Bar:\n",
    "    Bar_locations.append(b[\"location\"])\n",
    "df_bar = pd.DataFrame(Bar_locations)\n",
    "df_bar.rename(columns={\"lat\": \"latitude\", \"lng\": \"longitude\"}, inplace=True)\n",
    "df_bar[\"geolocation\"] = df_bar.apply(lambda x: getLoc(x.longitude, x.latitude), axis=1)\n",
    "df_bar\n",
    "df_bar.to_json(\"../output/bar.json\", orient='records')"
   ]
  },
  {
   "cell_type": "code",
   "execution_count": 46,
   "metadata": {},
   "outputs": [],
   "source": [
    "def getAirport(path,params=dict()):\n",
    "    params = dict(\n",
    "        client_id = client_id,\n",
    "        client_secret = client_secret,\n",
    "        v='20200418',\n",
    "        near = \"US\",\n",
    "        categoryId = \"4bf58dd8d48988d1ed931735\", #-> Airport categoryId,\n",
    "        intent = \"browse\",\n",
    "        limit = 1000\n",
    "     )\n",
    "    url = \"https://api.foursquare.com/v2/venues/search\"\n",
    "    res = requests.get(url=url, params=params)\n",
    "    return res.json()\n",
    "airports = getAirport(url, params)[\"response\"][\"venues\"]"
   ]
  },
  {
   "cell_type": "code",
   "execution_count": 47,
   "metadata": {},
   "outputs": [],
   "source": [
    "airports_locations=[]\n",
    "for a in airports:\n",
    "    airports_locations.append(a[\"location\"])\n",
    "df_airports = pd.DataFrame(airports_locations)\n",
    "df_airports.rename(columns={\"lat\": \"latitude\", \"lng\": \"longitude\"}, inplace=True)\n",
    "df_airports[\"geolocation\"] = df_airports.apply(lambda x: getLoc(x.longitude, x.latitude), axis=1)\n",
    "df_airports.to_json(\"../output/airports.json\", orient='records')"
   ]
  },
  {
   "cell_type": "code",
   "execution_count": 49,
   "metadata": {},
   "outputs": [],
   "source": [
    "def getVegetarianRestaurants (path, params=dict()):\n",
    "    params = dict(\n",
    "        client_id = client_id,\n",
    "        client_secret = client_secret,\n",
    "        v='20200418',\n",
    "        near = \"US\",\n",
    "        categoryId = \"4bf58dd8d48988d1d3941735\", #-> Vegetarian/vegan restaurant categoryId,\n",
    "        limit=1000,\n",
    "        intent = \"browse\"\n",
    "    )\n",
    "    url = \"https://api.foursquare.com/v2/venues/search\"\n",
    "    res = requests.get(url=url, params=params)\n",
    "    return res.json()\n",
    "veg_rest = getVegetarianRestaurants(url, params)[\"response\"][\"venues\"]"
   ]
  },
  {
   "cell_type": "code",
   "execution_count": 50,
   "metadata": {},
   "outputs": [],
   "source": [
    "veg_rest_locations=[]\n",
    "for v in veg_rest:\n",
    "    veg_rest_locations.append(v[\"location\"])\n",
    "df_veg_rest = pd.DataFrame(veg_rest_locations)\n",
    "df_veg_rest.rename(columns={\"lat\": \"latitude\", \"lng\": \"longitude\"}, inplace=True)\n",
    "df_veg_rest[\"geolocation\"] = df_veg_rest.apply(lambda x: getLoc(x.longitude, x.latitude), axis=1)\n",
    "df_veg_rest.to_json(\"../output/veg_rest.json\", orient='records')"
   ]
  },
  {
   "cell_type": "code",
   "execution_count": null,
   "metadata": {},
   "outputs": [],
   "source": []
  }
 ],
 "metadata": {
  "kernelspec": {
   "display_name": "Python 3",
   "language": "python",
   "name": "python3"
  },
  "language_info": {
   "codemirror_mode": {
    "name": "ipython",
    "version": 3
   },
   "file_extension": ".py",
   "mimetype": "text/x-python",
   "name": "python",
   "nbconvert_exporter": "python",
   "pygments_lexer": "ipython3",
   "version": "3.7.6"
  }
 },
 "nbformat": 4,
 "nbformat_minor": 4
}
