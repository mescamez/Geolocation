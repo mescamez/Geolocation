{
 "cells": [
  {
   "cell_type": "code",
   "execution_count": 1,
   "metadata": {},
   "outputs": [],
   "source": [
    "from pymongo import MongoClient\n",
    "import pandas as pd\n",
    "import requests"
   ]
  },
  {
   "cell_type": "code",
   "execution_count": 2,
   "metadata": {},
   "outputs": [],
   "source": [
    "client = MongoClient(\"mongodb://localhost/projectdb\")\n",
    "db = client.get_database()"
   ]
  },
  {
   "cell_type": "code",
   "execution_count": 3,
   "metadata": {},
   "outputs": [],
   "source": [
    "airport = list(db.airports.find({}))"
   ]
  },
  {
   "cell_type": "code",
   "execution_count": 4,
   "metadata": {},
   "outputs": [
    {
     "name": "stderr",
     "output_type": "stream",
     "text": [
      "/Users/manuelescamezsanchez/opt/anaconda3/lib/python3.7/site-packages/ipykernel_launcher.py:13: DeprecationWarning: count is deprecated. Use Collection.count_documents instead.\n",
      "  del sys.path[0]\n"
     ]
    }
   ],
   "source": [
    "#Searching the airport with more companies in 30 km\n",
    "companies_number_air=[]\n",
    "companies_geolocation_air=[]\n",
    "for e in airport:\n",
    "    query = {\n",
    "        \"geolocation\": {\n",
    "            \"$near\": {\n",
    "            \"$geometry\": e[\"geolocation\"],\n",
    "            \"$maxDistance\": 30000,\n",
    "            }\n",
    "        }\n",
    "    }\n",
    "    cur = db.companies_clean.find(query, {\"_id\":0})\n",
    "    companies_number_air.append((cur.count()))\n",
    "    companies_geolocation_air.append(e[\"geolocation\"])"
   ]
  },
  {
   "cell_type": "code",
   "execution_count": 5,
   "metadata": {},
   "outputs": [
    {
     "data": {
      "text/plain": [
       "(403, {'type': 'Point', 'coordinates': [-122.386354208, 37.618217208]})"
      ]
     },
     "execution_count": 5,
     "metadata": {},
     "output_type": "execute_result"
    }
   ],
   "source": [
    "companies_counter_air= list(zip(companies_number_air,companies_geolocation_air))\n",
    "selected_airport = max(companies_counter_air)\n",
    "selected_airport"
   ]
  },
  {
   "cell_type": "code",
   "execution_count": 6,
   "metadata": {},
   "outputs": [
    {
     "name": "stdout",
     "output_type": "stream",
     "text": [
      "403\n"
     ]
    },
    {
     "name": "stderr",
     "output_type": "stream",
     "text": [
      "/Users/manuelescamezsanchez/opt/anaconda3/lib/python3.7/site-packages/ipykernel_launcher.py:11: DeprecationWarning: count is deprecated. Use Collection.count_documents instead.\n",
      "  # This is added back by InteractiveShellApp.init_path()\n"
     ]
    }
   ],
   "source": [
    "#Filtering companies by this point\n",
    "point = selected_airport[1]\n",
    "query = {\n",
    "    \"geolocation\": {\n",
    "        \"$near\": {\n",
    "        \"$geometry\": point,\n",
    "        \"$maxDistance\": 30000,\n",
    "        }\n",
    "    }\n",
    "}\n",
    "cur = db.companies_clean.find(query, {\"_id\":0})\n",
    "print(cur.count())\n",
    "result = list(cur)"
   ]
  },
  {
   "cell_type": "code",
   "execution_count": 7,
   "metadata": {},
   "outputs": [],
   "source": [
    "companies_filtered = pd.DataFrame(result)"
   ]
  },
  {
   "cell_type": "code",
   "execution_count": 8,
   "metadata": {},
   "outputs": [],
   "source": [
    "def easyLatLng(row):\n",
    "    gl = row.geolocation\n",
    "    return {\n",
    "        \"latitude\":gl[\"coordinates\"][1],\n",
    "        \"longitude\":gl[\"coordinates\"][0]\n",
    "    }"
   ]
  },
  {
   "cell_type": "code",
   "execution_count": 9,
   "metadata": {},
   "outputs": [],
   "source": [
    "companies_filtered = pd.concat([companies_filtered, companies_filtered.apply(easyLatLng, axis=1, result_type=\"expand\")], axis=1)"
   ]
  },
  {
   "cell_type": "code",
   "execution_count": 10,
   "metadata": {},
   "outputs": [],
   "source": [
    "companies_filtered.to_json(\"../output/companies_filtered_air.json\",orient=\"records\")"
   ]
  },
  {
   "cell_type": "code",
   "execution_count": 11,
   "metadata": {},
   "outputs": [],
   "source": [
    "bar = list(db.bar.find({}))"
   ]
  },
  {
   "cell_type": "code",
   "execution_count": 12,
   "metadata": {},
   "outputs": [
    {
     "name": "stderr",
     "output_type": "stream",
     "text": [
      "/Users/manuelescamezsanchez/opt/anaconda3/lib/python3.7/site-packages/ipykernel_launcher.py:13: DeprecationWarning: count is deprecated. Use Collection.count_documents instead.\n",
      "  del sys.path[0]\n"
     ]
    },
    {
     "data": {
      "text/plain": [
       "5"
      ]
     },
     "execution_count": 12,
     "metadata": {},
     "output_type": "execute_result"
    }
   ],
   "source": [
    "#Searching the bar with more companies in 1 km\n",
    "companies_number_bar=[]\n",
    "companies_geolocation_bar=[]\n",
    "for e in bar:\n",
    "    query = {\n",
    "        \"geolocation\": {\n",
    "            \"$near\": {\n",
    "            \"$geometry\": e[\"geolocation\"],\n",
    "            \"$maxDistance\": 1000,\n",
    "            }\n",
    "        }\n",
    "    }\n",
    "    cur = db.companies_filtered_air.find(query, {\"_id\":0})\n",
    "    companies_number_bar.append((cur.count()))\n",
    "    companies_geolocation_bar.append(e[\"geolocation\"])\n",
    "    \n",
    "max(companies_number_bar)"
   ]
  },
  {
   "cell_type": "code",
   "execution_count": 13,
   "metadata": {},
   "outputs": [
    {
     "data": {
      "text/plain": [
       "[{'type': 'Point', 'coordinates': [-122.4232475424, 37.7551760569]}]"
      ]
     },
     "execution_count": 13,
     "metadata": {},
     "output_type": "execute_result"
    }
   ],
   "source": [
    "companies_counter_bar = list(zip(companies_number_bar, companies_geolocation_bar))\n",
    "selected_bar=[]\n",
    "for e in companies_counter_bar:\n",
    "    if e[0]==max(companies_number_bar):\n",
    "        selected_bar.append(e[1])\n",
    "        break\n",
    "selected_bar"
   ]
  },
  {
   "cell_type": "code",
   "execution_count": 14,
   "metadata": {},
   "outputs": [
    {
     "name": "stdout",
     "output_type": "stream",
     "text": [
      "5\n"
     ]
    },
    {
     "name": "stderr",
     "output_type": "stream",
     "text": [
      "/Users/manuelescamezsanchez/opt/anaconda3/lib/python3.7/site-packages/ipykernel_launcher.py:11: DeprecationWarning: count is deprecated. Use Collection.count_documents instead.\n",
      "  # This is added back by InteractiveShellApp.init_path()\n"
     ]
    }
   ],
   "source": [
    "#Filtering companies by this point\n",
    "point3 = selected_bar[0]\n",
    "query3 = {\n",
    "    \"geolocation\": {\n",
    "        \"$near\": {\n",
    "        \"$geometry\": point3,\n",
    "        \"$maxDistance\": 1000,\n",
    "        }\n",
    "    }\n",
    "}\n",
    "cur = db.companies_filtered_air.find(query3, {\"_id\":0})\n",
    "print(cur.count())\n",
    "result = list(cur)"
   ]
  },
  {
   "cell_type": "code",
   "execution_count": 15,
   "metadata": {},
   "outputs": [
    {
     "data": {
      "text/html": [
       "<div>\n",
       "<style scoped>\n",
       "    .dataframe tbody tr th:only-of-type {\n",
       "        vertical-align: middle;\n",
       "    }\n",
       "\n",
       "    .dataframe tbody tr th {\n",
       "        vertical-align: top;\n",
       "    }\n",
       "\n",
       "    .dataframe thead th {\n",
       "        text-align: right;\n",
       "    }\n",
       "</style>\n",
       "<table border=\"1\" class=\"dataframe\">\n",
       "  <thead>\n",
       "    <tr style=\"text-align: right;\">\n",
       "      <th></th>\n",
       "      <th>name</th>\n",
       "      <th>category_code</th>\n",
       "      <th>total_money_raised</th>\n",
       "      <th>geolocation</th>\n",
       "      <th>clean_state</th>\n",
       "      <th>latitude</th>\n",
       "      <th>longitude</th>\n",
       "    </tr>\n",
       "  </thead>\n",
       "  <tbody>\n",
       "    <tr>\n",
       "      <th>0</th>\n",
       "      <td>Netbiscuits</td>\n",
       "      <td>tech</td>\n",
       "      <td>27000000</td>\n",
       "      <td>{'type': 'Point', 'coordinates': [-122.4264417...</td>\n",
       "      <td>success</td>\n",
       "      <td>37.755037</td>\n",
       "      <td>-122.426442</td>\n",
       "    </tr>\n",
       "    <tr>\n",
       "      <th>1</th>\n",
       "      <td>RateItAll</td>\n",
       "      <td>tech</td>\n",
       "      <td>1400000</td>\n",
       "      <td>{'type': 'Point', 'coordinates': [-122.418137,...</td>\n",
       "      <td>success</td>\n",
       "      <td>37.755012</td>\n",
       "      <td>-122.418137</td>\n",
       "    </tr>\n",
       "    <tr>\n",
       "      <th>2</th>\n",
       "      <td>OQO</td>\n",
       "      <td>tech</td>\n",
       "      <td>39800000</td>\n",
       "      <td>{'type': 'Point', 'coordinates': [-122.415869,...</td>\n",
       "      <td>success</td>\n",
       "      <td>37.759117</td>\n",
       "      <td>-122.415869</td>\n",
       "    </tr>\n",
       "    <tr>\n",
       "      <th>3</th>\n",
       "      <td>Pageflakes</td>\n",
       "      <td>tech</td>\n",
       "      <td>4099999</td>\n",
       "      <td>{'type': 'Point', 'coordinates': [-122.414689,...</td>\n",
       "      <td>success</td>\n",
       "      <td>37.758113</td>\n",
       "      <td>-122.414689</td>\n",
       "    </tr>\n",
       "    <tr>\n",
       "      <th>4</th>\n",
       "      <td>Aardvark</td>\n",
       "      <td>tech</td>\n",
       "      <td>6000000</td>\n",
       "      <td>{'type': 'Point', 'coordinates': [-122.415813,...</td>\n",
       "      <td>success</td>\n",
       "      <td>37.748676</td>\n",
       "      <td>-122.415813</td>\n",
       "    </tr>\n",
       "  </tbody>\n",
       "</table>\n",
       "</div>"
      ],
      "text/plain": [
       "          name category_code  total_money_raised  \\\n",
       "0  Netbiscuits          tech            27000000   \n",
       "1    RateItAll          tech             1400000   \n",
       "2          OQO          tech            39800000   \n",
       "3   Pageflakes          tech             4099999   \n",
       "4     Aardvark          tech             6000000   \n",
       "\n",
       "                                         geolocation clean_state   latitude  \\\n",
       "0  {'type': 'Point', 'coordinates': [-122.4264417...     success  37.755037   \n",
       "1  {'type': 'Point', 'coordinates': [-122.418137,...     success  37.755012   \n",
       "2  {'type': 'Point', 'coordinates': [-122.415869,...     success  37.759117   \n",
       "3  {'type': 'Point', 'coordinates': [-122.414689,...     success  37.758113   \n",
       "4  {'type': 'Point', 'coordinates': [-122.415813,...     success  37.748676   \n",
       "\n",
       "    longitude  \n",
       "0 -122.426442  \n",
       "1 -122.418137  \n",
       "2 -122.415869  \n",
       "3 -122.414689  \n",
       "4 -122.415813  "
      ]
     },
     "execution_count": 15,
     "metadata": {},
     "output_type": "execute_result"
    }
   ],
   "source": [
    "companies_filtered_bar = pd.DataFrame(result)\n",
    "companies_filtered_bar"
   ]
  },
  {
   "cell_type": "code",
   "execution_count": 16,
   "metadata": {},
   "outputs": [],
   "source": [
    "companies_filtered_bar.to_json(\"../output/companies_filtered_bar.json\",orient=\"records\")"
   ]
  },
  {
   "cell_type": "code",
   "execution_count": 17,
   "metadata": {},
   "outputs": [],
   "source": [
    "starbucks = list(db.starbucks.find({}))"
   ]
  },
  {
   "cell_type": "code",
   "execution_count": 18,
   "metadata": {},
   "outputs": [
    {
     "name": "stderr",
     "output_type": "stream",
     "text": [
      "/Users/manuelescamezsanchez/opt/anaconda3/lib/python3.7/site-packages/ipykernel_launcher.py:13: DeprecationWarning: count is deprecated. Use Collection.count_documents instead.\n",
      "  del sys.path[0]\n",
      "/Users/manuelescamezsanchez/opt/anaconda3/lib/python3.7/site-packages/ipykernel_launcher.py:14: DeprecationWarning: count is deprecated. Use Collection.count_documents instead.\n",
      "  \n"
     ]
    }
   ],
   "source": [
    "#Searching the Starbucks with more companies in 500 m\n",
    "companies_number_str=[]\n",
    "companies_geolocation_str=[]\n",
    "for e in starbucks:\n",
    "    query = {\n",
    "        \"geolocation\": {\n",
    "            \"$near\": {\n",
    "            \"$geometry\": e[\"geolocation\"],\n",
    "            \"$maxDistance\": 500,\n",
    "            }\n",
    "        }\n",
    "    }\n",
    "    cur = db.companies_filtered_bar.find(query, {\"_id\":0})\n",
    "    if (cur.count())!=0:\n",
    "        companies_number_str.append((cur.count()))\n",
    "        companies_geolocation_str.append(e[\"geolocation\"])"
   ]
  },
  {
   "cell_type": "code",
   "execution_count": 19,
   "metadata": {},
   "outputs": [
    {
     "data": {
      "text/plain": [
       "[{'type': 'Point', 'coordinates': [-122.41, 37.76]}]"
      ]
     },
     "execution_count": 19,
     "metadata": {},
     "output_type": "execute_result"
    }
   ],
   "source": [
    "companies_counter_str = list(zip(companies_number_str, companies_geolocation_str))\n",
    "selected_starbuck=[]\n",
    "for e in companies_counter_str:\n",
    "    if e[0]==max(companies_number_str):\n",
    "        selected_starbuck.append(e[1])\n",
    "        break\n",
    "selected_starbuck"
   ]
  },
  {
   "cell_type": "code",
   "execution_count": 21,
   "metadata": {},
   "outputs": [
    {
     "name": "stdout",
     "output_type": "stream",
     "text": [
      "1\n"
     ]
    },
    {
     "name": "stderr",
     "output_type": "stream",
     "text": [
      "/Users/manuelescamezsanchez/opt/anaconda3/lib/python3.7/site-packages/ipykernel_launcher.py:11: DeprecationWarning: count is deprecated. Use Collection.count_documents instead.\n",
      "  # This is added back by InteractiveShellApp.init_path()\n"
     ]
    }
   ],
   "source": [
    "#Only one company, this is our location\n",
    "point = {'type': 'Point', 'coordinates': [-122.41, 37.76]}\n",
    "query = {\n",
    "    \"geolocation\": {\n",
    "        \"$near\": {\n",
    "        \"$geometry\": point,\n",
    "        \"$maxDistance\": 500,\n",
    "        }\n",
    "    }\n",
    "}\n",
    "cur = db.companies_filtered_bar.find(query, {\"_id\":0})\n",
    "print(cur.count())\n",
    "result = list(cur)"
   ]
  },
  {
   "cell_type": "code",
   "execution_count": 23,
   "metadata": {},
   "outputs": [
    {
     "data": {
      "text/html": [
       "<div>\n",
       "<style scoped>\n",
       "    .dataframe tbody tr th:only-of-type {\n",
       "        vertical-align: middle;\n",
       "    }\n",
       "\n",
       "    .dataframe tbody tr th {\n",
       "        vertical-align: top;\n",
       "    }\n",
       "\n",
       "    .dataframe thead th {\n",
       "        text-align: right;\n",
       "    }\n",
       "</style>\n",
       "<table border=\"1\" class=\"dataframe\">\n",
       "  <thead>\n",
       "    <tr style=\"text-align: right;\">\n",
       "      <th></th>\n",
       "      <th>name</th>\n",
       "      <th>category_code</th>\n",
       "      <th>total_money_raised</th>\n",
       "      <th>geolocation</th>\n",
       "      <th>clean_state</th>\n",
       "      <th>latitude</th>\n",
       "      <th>longitude</th>\n",
       "    </tr>\n",
       "  </thead>\n",
       "  <tbody>\n",
       "    <tr>\n",
       "      <th>0</th>\n",
       "      <td>Pageflakes</td>\n",
       "      <td>tech</td>\n",
       "      <td>4099999</td>\n",
       "      <td>{'type': 'Point', 'coordinates': [-122.414689,...</td>\n",
       "      <td>success</td>\n",
       "      <td>37.758113</td>\n",
       "      <td>-122.414689</td>\n",
       "    </tr>\n",
       "  </tbody>\n",
       "</table>\n",
       "</div>"
      ],
      "text/plain": [
       "         name category_code  total_money_raised  \\\n",
       "0  Pageflakes          tech             4099999   \n",
       "\n",
       "                                         geolocation clean_state   latitude  \\\n",
       "0  {'type': 'Point', 'coordinates': [-122.414689,...     success  37.758113   \n",
       "\n",
       "    longitude  \n",
       "0 -122.414689  "
      ]
     },
     "execution_count": 23,
     "metadata": {},
     "output_type": "execute_result"
    }
   ],
   "source": [
    "company_selected = pd.DataFrame(result)\n",
    "company_selected"
   ]
  },
  {
   "cell_type": "code",
   "execution_count": 24,
   "metadata": {},
   "outputs": [],
   "source": [
    "company_selected.to_json(\"../output/company_selected.json\",orient=\"records\")"
   ]
  },
  {
   "cell_type": "code",
   "execution_count": null,
   "metadata": {},
   "outputs": [],
   "source": []
  }
 ],
 "metadata": {
  "kernelspec": {
   "display_name": "Python 3",
   "language": "python",
   "name": "python3"
  },
  "language_info": {
   "codemirror_mode": {
    "name": "ipython",
    "version": 3
   },
   "file_extension": ".py",
   "mimetype": "text/x-python",
   "name": "python",
   "nbconvert_exporter": "python",
   "pygments_lexer": "ipython3",
   "version": "3.7.6"
  }
 },
 "nbformat": 4,
 "nbformat_minor": 4
}
